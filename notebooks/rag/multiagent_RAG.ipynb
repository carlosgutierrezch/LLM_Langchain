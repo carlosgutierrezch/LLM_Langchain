{
 "cells": [
  {
   "cell_type": "markdown",
   "metadata": {},
   "source": [
    "### Basic RAG retriever using Langchain and Anthropic model"
   ]
  },
  {
   "cell_type": "code",
   "execution_count": 1,
   "metadata": {},
   "outputs": [
    {
     "name": "stderr",
     "output_type": "stream",
     "text": [
      "USER_AGENT environment variable not set, consider setting it to identify your requests.\n"
     ]
    }
   ],
   "source": [
    "import bs4\n",
    "from langchain import hub\n",
    "from langchain_chroma import Chroma\n",
    "from langchain_community.document_loaders import WebBaseLoader\n",
    "from langchain_core.output_parsers import StrOutputParser\n",
    "from langchain_core.runnables import RunnablePassthrough\n",
    "from langchain_core.vectorstores import InMemoryVectorStore\n",
    "from langchain_community.embeddings import OllamaEmbeddings\n",
    "from langchain_text_splitters import RecursiveCharacterTextSplitter\n",
    "from langchain_anthropic import ChatAnthropic\n",
    "from langchain.chains import create_sql_query_chain\n",
    "from langchain_community.utilities import SQLDatabase\n",
    "\n",
    "import os\n",
    "from dotenv import load_dotenv\n",
    "load_dotenv()\n",
    "os.environ[\"LANGCHAIN_API_KEY\"]= os.getenv(\"LANGCHAIN_API_KEY\")\n",
    "llm = ChatAnthropic(model=\"claude-3-5-sonnet-20240620\",temperature=0)\n",
    "os.environ[\"LANGCHAIN_PROJECT\"] = \"Trials\""
   ]
  },
  {
   "cell_type": "code",
   "execution_count": 2,
   "metadata": {},
   "outputs": [
    {
     "name": "stdout",
     "output_type": "stream",
     "text": [
      "sqlite\n",
      "['restaurants', 'restaurants_madrid']\n"
     ]
    },
    {
     "data": {
      "text/plain": [
       "'[(1191,)]'"
      ]
     },
     "execution_count": 2,
     "metadata": {},
     "output_type": "execute_result"
    }
   ],
   "source": [
    "db = SQLDatabase.from_uri(\"sqlite:////Users/main/Desktop/database/llm.db\")\n",
    "print(db.dialect)\n",
    "print(db.get_usable_table_names())\n",
    "db.run(\"SELECT count(*) FROM restaurants LIMIT 10;\")"
   ]
  },
  {
   "cell_type": "code",
   "execution_count": 3,
   "metadata": {},
   "outputs": [
    {
     "data": {
      "text/plain": [
       "'SELECT COUNT(*) FROM restaurants_madrid'"
      ]
     },
     "execution_count": 3,
     "metadata": {},
     "output_type": "execute_result"
    }
   ],
   "source": [
    "from langchain.chains import create_sql_query_chain\n",
    "from langchain_openai import ChatOpenAI\n",
    "\n",
    "chain = create_sql_query_chain(llm, db)\n",
    "response = chain.invoke({\"question\": \"How many restaurants are in the restaurants_madrid table, just give me the query, nothing else\"})\n",
    "response"
   ]
  },
  {
   "cell_type": "code",
   "execution_count": 4,
   "metadata": {},
   "outputs": [
    {
     "data": {
      "text/plain": [
       "'[(2380,)]'"
      ]
     },
     "execution_count": 4,
     "metadata": {},
     "output_type": "execute_result"
    }
   ],
   "source": [
    "db.run(response)"
   ]
  },
  {
   "cell_type": "code",
   "execution_count": 5,
   "metadata": {},
   "outputs": [
    {
     "name": "stdout",
     "output_type": "stream",
     "text": [
      "You are a SQLite expert. Given an input question, first create a syntactically correct SQLite query to run, then look at the results of the query and return the answer to the input question.\n",
      "Unless the user specifies in the question a specific number of examples to obtain, query for at most 5 results using the LIMIT clause as per SQLite. You can order the results to return the most informative data in the database.\n",
      "Never query for all columns from a table. You must query only the columns that are needed to answer the question. Wrap each column name in double quotes (\") to denote them as delimited identifiers.\n",
      "Pay attention to use only the column names you can see in the tables below. Be careful to not query for columns that do not exist. Also, pay attention to which column is in which table.\n",
      "Pay attention to use date('now') function to get the current date, if the question involves \"today\".\n",
      "\n",
      "Use the following format:\n",
      "\n",
      "Question: Question here\n",
      "SQLQuery: SQL Query to run\n",
      "SQLResult: Result of the SQLQuery\n",
      "Answer: Final answer here\n",
      "\n",
      "Only use the following tables:\n",
      "\u001b[33;1m\u001b[1;3m{table_info}\u001b[0m\n",
      "\n",
      "Question: \u001b[33;1m\u001b[1;3m{input}\u001b[0m\n"
     ]
    }
   ],
   "source": [
    "chain.get_prompts()[0].pretty_print()"
   ]
  },
  {
   "cell_type": "code",
   "execution_count": 21,
   "metadata": {},
   "outputs": [],
   "source": [
    "from langchain_community.agent_toolkits import create_sql_agent\n",
    "\n",
    "agent_executor = create_sql_agent(llm, db=db, verbose=True)"
   ]
  },
  {
   "cell_type": "code",
   "execution_count": 22,
   "metadata": {},
   "outputs": [
    {
     "name": "stdout",
     "output_type": "stream",
     "text": [
      "\n",
      "\n",
      "\u001b[1m> Entering new SQL Agent Executor chain...\u001b[0m\n",
      "\u001b[32;1m\u001b[1;3mAction: sql_db_list_tables\n",
      "Action Input: \n",
      "\u001b[0m\u001b[38;5;200m\u001b[1;3mrestaurants, restaurants_madrid\u001b[0m\u001b[32;1m\u001b[1;3mBased on the observation, we have two tables: \"restaurants\" and \"restaurants_madrid\". To get the total amount of restaurants, we should count the number of entries in the \"restaurants\" table, as it likely contains all restaurants.\n",
      "\n",
      "Let's check the schema of the \"restaurants\" table to ensure we have the correct information.\n",
      "\n",
      "Action: sql_db_schema\n",
      "Action Input: restaurants\n",
      "\u001b[0m\u001b[33;1m\u001b[1;3m\n",
      "CREATE TABLE restaurants (\n",
      "\t\"index\" INTEGER, \n",
      "\tbusiness_status TEXT, \n",
      "\ticon TEXT, \n",
      "\ticon_background_color TEXT, \n",
      "\ticon_mask_base_uri TEXT, \n",
      "\tname TEXT, \n",
      "\tplace_id TEXT, \n",
      "\trating REAL, \n",
      "\treference TEXT, \n",
      "\tscope TEXT, \n",
      "\tuser_ratings_total REAL, \n",
      "\tvicinity TEXT, \n",
      "\t\"geometry.location.lat\" REAL, \n",
      "\t\"geometry.location.lng\" REAL, \n",
      "\t\"geometry.viewport.northeast.lat\" REAL, \n",
      "\t\"geometry.viewport.northeast.lng\" REAL, \n",
      "\t\"geometry.viewport.southwest.lat\" REAL, \n",
      "\t\"geometry.viewport.southwest.lng\" REAL, \n",
      "\t\"opening_hours.open_now\" INTEGER, \n",
      "\t\"plus_code.compound_code\" TEXT, \n",
      "\t\"plus_code.global_code\" TEXT, \n",
      "\tprice_level REAL, \n",
      "\tpermanently_closed INTEGER\n",
      ")\n",
      "\n",
      "/*\n",
      "3 rows from restaurants table:\n",
      "index\tbusiness_status\ticon\ticon_background_color\ticon_mask_base_uri\tname\tplace_id\trating\treference\tscope\tuser_ratings_total\tvicinity\tgeometry.location.lat\tgeometry.location.lng\tgeometry.viewport.northeast.lat\tgeometry.viewport.northeast.lng\tgeometry.viewport.southwest.lat\tgeometry.viewport.southwest.lng\topening_hours.open_now\tplus_code.compound_code\tplus_code.global_code\tprice_level\tpermanently_closed\n",
      "0\tOPERATIONAL\thttps://maps.gstatic.com/mapfiles/place_api/icons/v1/png_71/lodging-71.png\t#909CE1\thttps://maps.gstatic.com/mapfiles/place_api/icons/v2/hotel_pinlet\tVP Jardín de Recoletos\tChIJ0U9LFZooQg0RgdlcHxZdkek\t4.5\tChIJ0U9LFZooQg0RgdlcHxZdkek\tGOOGLE\t611.0\tCalle de Gil de Santivañes, 6, Madrid\t40.4223075\t-3.689168100000001\t40.42368518029149\t-3.687793119708498\t40.42098721970849\t-3.690491080291502\t1\tC8C6+W8 Madrid, Spain\t8CGRC8C6+W8\tNone\tNone\n",
      "1\tOPERATIONAL\thttps://maps.gstatic.com/mapfiles/place_api/icons/v1/png_71/restaurant-71.png\t#FF9E67\thttps://maps.gstatic.com/mapfiles/place_api/icons/v2/restaurant_pinlet\tNew York Burger\tChIJ2fFEjZooQg0RbySrRH-t_nk\t4.5\tChIJ2fFEjZooQg0RbySrRH-t_nk\tGOOGLE\t7357.0\tCalle de Recoletos, 4, Madrid\t40.422131\t-3.6908463\t40.4234758302915\t-3.689437969708498\t40.4207778697085\t-3.692135930291502\t1\tC8C5+VM Madrid, Spain\t8CGRC8C5+VM\t2.0\tNone\n",
      "2\tCLOSED_TEMPORARILY\thttps://maps.gstatic.com/mapfiles/place_api/icons/v1/png_71/restaurant-71.png\t#FF9E67\thttps://maps.gstatic.com/mapfiles/place_api/icons/v2/restaurant_pinlet\tRestaurante Green House Madrid | Cena con Espectáculo en Madrid\tChIJ01K8OpAoQg0RZbkTsA926Nw\t4.0\tChIJ01K8OpAoQg0RZbkTsA926Nw\tGOOGLE\t695.0\tCentro Colón, Calle del Marqués de la Ensenada, 16, Madrid\t40.42509629999999\t-3.691769\t40.42661023029149\t-3.690242219708498\t40.4239122697085\t-3.692940180291503\tNone\tC8G5+27 Madrid, Spain\t8CGRC8G5+27\tNone\t1\n",
      "*/\u001b[0m\u001b[32;1m\u001b[1;3mNow that we have the schema of the \"restaurants\" table, we can create a query to count the total number of restaurants. We'll use the COUNT(*) function to get the total number of rows in the table, which represents the total number of restaurants.\n",
      "\n",
      "Let's create the query and check it before executing:\n",
      "\n",
      "Action: sql_db_query_checker\n",
      "Action Input: SELECT COUNT(*) as total_restaurants FROM restaurants\n",
      "\u001b[0m\u001b[36;1m\u001b[1;3mSELECT COUNT(*) as total_restaurants FROM restaurants\u001b[0m\u001b[32;1m\u001b[1;3mThe query checker has confirmed that our SQL query is correct. Now, let's execute the query to get the total number of restaurants.\n",
      "\n",
      "Action: sql_db_query\n",
      "Action Input: SELECT COUNT(*) as total_restaurants FROM restaurants\n",
      "\u001b[0m\u001b[36;1m\u001b[1;3m[(1191,)]\u001b[0m\u001b[32;1m\u001b[1;3mThe query has been executed successfully, and we have obtained the result. Now I can provide the final answer to the original question.\n",
      "\n",
      "Final Answer: The total number of restaurants in the database is 1,191.\u001b[0m\n",
      "\n",
      "\u001b[1m> Finished chain.\u001b[0m\n"
     ]
    },
    {
     "data": {
      "text/plain": [
       "{'input': 'List the total amount of restaurantst?',\n",
       " 'output': 'The total number of restaurants in the database is 1,191.'}"
      ]
     },
     "execution_count": 22,
     "metadata": {},
     "output_type": "execute_result"
    }
   ],
   "source": [
    "agent_executor.invoke(\n",
    "    \"List the total amount of restaurantst?\"\n",
    ")"
   ]
  },
  {
   "cell_type": "code",
   "execution_count": 23,
   "metadata": {},
   "outputs": [],
   "source": [
    "examples = [\n",
    "    {\n",
    "        \"input\": \"List all operational places.\",\n",
    "        \"query\": \"SELECT * FROM Places WHERE Status = 'OPERATIONAL';\",\n",
    "    },\n",
    "    {\n",
    "        \"input\": \"Find all places with a rating of 4.5 or higher.\",\n",
    "        \"query\": \"SELECT * FROM Places WHERE Rating >= 4.5;\",\n",
    "    },\n",
    "    {\n",
    "        \"input\": \"Get the details of the place with the highest rating.\",\n",
    "        \"query\": \"SELECT * FROM Places ORDER BY Rating DESC LIMIT 1;\",\n",
    "    },\n",
    "    {\n",
    "        \"input\": \"List all places that are temporarily closed.\",\n",
    "        \"query\": \"SELECT * FROM Places WHERE Status = 'CLOSED_TEMPORARILY';\",\n",
    "    },\n",
    "    {\n",
    "        \"input\": \"Find the total number of places in Madrid.\",\n",
    "        \"query\": \"SELECT COUNT(*) FROM Places WHERE Address LIKE '%Madrid%';\",\n",
    "    },\n",
    "    {\n",
    "        \"input\": \"List all places located on Calle de Recoletos.\",\n",
    "        \"query\": \"SELECT * FROM Places WHERE Address LIKE '%Calle de Recoletos%';\",\n",
    "    },\n",
    "    {\n",
    "        \"input\": \"Find the place with the highest price range.\",\n",
    "        \"query\": \"SELECT * FROM Places ORDER BY PriceRange DESC LIMIT 1;\",\n",
    "    },\n",
    "    {\n",
    "        \"input\": \"How many places are there with a rating of 4.4 or lower?\",\n",
    "        \"query\": \"SELECT COUNT(*) FROM Places WHERE Rating <= 4.4;\",\n",
    "    },\n",
    "    {\n",
    "        \"input\": \"List all places with a price range between 600 and 2000.\",\n",
    "        \"query\": \"SELECT * FROM Places WHERE PriceRange BETWEEN 600 AND 2000;\",\n",
    "    },\n",
    "    {\n",
    "        \"input\": \"Find the average rating of all operational places.\",\n",
    "        \"query\": \"SELECT AVG(Rating) FROM Places WHERE Status = 'OPERATIONAL';\",\n",
    "    },\n",
    "]"
   ]
  },
  {
   "cell_type": "code",
   "execution_count": 28,
   "metadata": {},
   "outputs": [],
   "source": [
    "from langchain_community.vectorstores import Chroma\n",
    "from langchain_core.example_selectors import SemanticSimilarityExampleSelector\n",
    "from langchain_community.embeddings import OllamaEmbeddings\n",
    "\n",
    "example_selector = SemanticSimilarityExampleSelector.from_examples(\n",
    "    examples,\n",
    "    OllamaEmbeddings(model='nomic-embed-text'),\n",
    "    Chroma,\n",
    "    k=5,\n",
    "    input_keys=[\"input\"],\n",
    ")"
   ]
  },
  {
   "cell_type": "code",
   "execution_count": 30,
   "metadata": {},
   "outputs": [],
   "source": [
    "from langchain_core.prompts import (\n",
    "    ChatPromptTemplate,\n",
    "    FewShotPromptTemplate,\n",
    "    MessagesPlaceholder,\n",
    "    PromptTemplate,\n",
    "    SystemMessagePromptTemplate,\n",
    ")\n",
    "\n",
    "system_prefix = \"\"\"You are an agent designed to interact with a SQL database.\n",
    "Given an input question, create a syntactically correct {dialect} query to run, then look at the results of the query and return the answer.\n",
    "Unless the user specifies a specific number of examples they wish to obtain, always limit your query to at most {top_k} results.\n",
    "You can order the results by a relevant column to return the most interesting examples in the database.\n",
    "Never query for all the columns from a specific table, only ask for the relevant columns given the question.\n",
    "You have access to tools for interacting with the database.\n",
    "Only use the given tools. Only use the information returned by the tools to construct your final answer.\n",
    "You MUST double check your query before executing it. If you get an error while executing a query, rewrite the query and try again.\n",
    "\n",
    "DO NOT make any DML statements (INSERT, UPDATE, DELETE, DROP etc.) to the database.\n",
    "\n",
    "If the question does not seem related to the database, just return \"I don't know\" as the answer.\n",
    "\n",
    "Here are some examples of user inputs and their corresponding SQL queries:\"\"\"\n",
    "\n",
    "few_shot_prompt = FewShotPromptTemplate(\n",
    "    example_selector=example_selector,\n",
    "    example_prompt=PromptTemplate.from_template(\n",
    "        \"User input: {input}\\nSQL query: {query}\"\n",
    "    ),\n",
    "    input_variables=[\"input\", \"dialect\", \"top_k\"],\n",
    "    prefix=system_prefix,\n",
    "    suffix=\"\",\n",
    ")"
   ]
  },
  {
   "cell_type": "code",
   "execution_count": 31,
   "metadata": {},
   "outputs": [],
   "source": [
    "from langchain_core.prompts import FewShotPromptTemplate, PromptTemplate\n",
    "\n",
    "example_prompt = PromptTemplate.from_template(\"User input: {input}\\nSQL query: {query}\")\n",
    "prompt = FewShotPromptTemplate(\n",
    "    examples=examples[:5],\n",
    "    example_prompt=example_prompt,\n",
    "    prefix=\"You are a SQLite expert. Given an input question, create a syntactically correct SQLite query to run. Unless otherwise specificed, do not return more than {top_k} rows.\\n\\nHere is the relevant table info: {table_info}\\n\\nBelow are a number of examples of questions and their corresponding SQL queries.\",\n",
    "    suffix=\"User input: {input}\\nSQL query: \",\n",
    "    input_variables=[\"input\", \"top_k\", \"table_info\"],\n",
    ")"
   ]
  },
  {
   "cell_type": "code",
   "execution_count": 32,
   "metadata": {},
   "outputs": [],
   "source": [
    "full_prompt = ChatPromptTemplate.from_messages(\n",
    "    [\n",
    "        SystemMessagePromptTemplate(prompt=few_shot_prompt),\n",
    "        (\"human\", \"{input}\"),\n",
    "        MessagesPlaceholder(\"agent_scratchpad\"),\n",
    "    ]\n",
    ")"
   ]
  }
 ],
 "metadata": {
  "kernelspec": {
   "display_name": "LLM",
   "language": "python",
   "name": "python3"
  },
  "language_info": {
   "codemirror_mode": {
    "name": "ipython",
    "version": 3
   },
   "file_extension": ".py",
   "mimetype": "text/x-python",
   "name": "python",
   "nbconvert_exporter": "python",
   "pygments_lexer": "ipython3",
   "version": "3.11.4"
  }
 },
 "nbformat": 4,
 "nbformat_minor": 2
}
