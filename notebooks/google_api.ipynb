{
 "cells": [
  {
   "cell_type": "markdown",
   "metadata": {},
   "source": [
    "# Google Api places\n",
    "- This notebook has a walktrough of how to extract information from the Api of google places\n",
    "\n",
    "- it was very difficult to deal with that APi because did not have pagination therefore the way to work was creating a \"grid\" \n",
    "with a very specific distance between the nodes so in that way we can get as much information as we can from each jump from one node to the other\n",
    "\n",
    "- The data use for the RAG is not going to be the one got from Google Api places, though, was a really good excersise and the code is going to be used as @tool for the Multi-Agent RAG"
   ]
  },
  {
   "cell_type": "code",
   "execution_count": null,
   "metadata": {},
   "outputs": [],
   "source": [
    "import pandas as pd\n",
    "import requests\n",
    "from dotenv import load_dotenv,dotenv_values\n",
    "from copy import deepcopy as dc\n",
    "import os\n",
    "import folium\n",
    "API = dotenv_values('GOOGLE_API_KEY')\n",
    "import time\n",
    "import numpy as np"
   ]
  },
  {
   "cell_type": "code",
   "execution_count": null,
   "metadata": {},
   "outputs": [],
   "source": [
    "pd.reset_option(\"max_columns\")\n",
    "pd.set_option(\"max_colwidth\",None)\n",
    "pd.set_option('display.expand_frame_repr', False)\n",
    "pd.set_option('display.max_columns', 500)\n",
    "pd.set_option('display.width', 1000)"
   ]
  },
  {
   "cell_type": "code",
   "execution_count": null,
   "metadata": {},
   "outputs": [],
   "source": [
    "start_lat = 40.417113\n",
    "start_lng = -3.697292\n",
    "\n",
    "lat_diff = 0.0050\n",
    "lng_diff = 0.0050\n",
    "\n",
    "\n",
    "lat_range = np.arange(start_lat - 0.060, start_lat + 0.060, lat_diff) \n",
    "lng_range = np.arange(start_lng - 0.060, start_lng + 0.060, lng_diff)  \n",
    "coordinates = [(lat, lng) for lat in lat_range for lng in lng_range]\n",
    "\n",
    "for coord in coordinates[:10]:\n",
    "    print(coord)\n",
    "print(f\"Total coordinate points generated: {len(coordinates)}\")"
   ]
  },
  {
   "cell_type": "code",
   "execution_count": null,
   "metadata": {},
   "outputs": [],
   "source": [
    "from math import radians, sin, cos, sqrt, atan2\n",
    "\n",
    "def haversine(lat1, lon1, lat2, lon2):\n",
    "    lat1, lon1, lat2, lon2 = map(radians, [lat1, lon1, lat2, lon2])\n",
    "\n",
    "    dlat = lat2 - lat1\n",
    "    dlon = lon2 - lon1\n",
    "    a = sin(dlat / 2)**2 + cos(lat1) * cos(lat2) * sin(dlon / 2)**2\n",
    "    c = 2 * atan2(sqrt(a), sqrt(1 - a))\n",
    "    r = 6371000  \n",
    "    return r * c\n",
    "\n",
    "lat1, lon1 = coordinates[0][0], coordinates[0][1]  \n",
    "lat2, lon2 = coordinates[1][0], coordinates[1][1]  \n",
    "\n",
    "distance = haversine(lat1, lon1, lat2, lon2)\n",
    "print(f\"The distance is {distance:.2f} meters\")"
   ]
  },
  {
   "cell_type": "code",
   "execution_count": null,
   "metadata": {},
   "outputs": [],
   "source": [
    "map_madrid = folium.Map(location=[40.4168, -3.7038], zoom_start=14)\n",
    "\n",
    "for (index, row) in coordinates.iterrows():\n",
    "    folium.Marker(location = [row.loc[\"lat\"], row.loc[\"long\"]]).add_to(map_madrid)\n",
    "\n",
    "map_madrid\n"
   ]
  },
  {
   "cell_type": "code",
   "execution_count": null,
   "metadata": {},
   "outputs": [],
   "source": [
    "def trial_function(coords:pd.DataFrame):\n",
    "    df = []\n",
    "    round=1\n",
    "    for lat, lng in coords:\n",
    "        url = f\"https://maps.googleapis.com/maps/api/place/nearbysearch/json?location={lat},{lng}&radius=300&type=restaurant&type=bakery&type=bar&type=cafe&type=meal_delivery&type=meal_takeaway&key={os.getenv('GOOGLE_API_KEY')}\"\n",
    "        params = {'pagetoken': ''}\n",
    "        while True:\n",
    "            response = requests.get(url, params)\n",
    "            if response.status_code != 200:\n",
    "                print(\"There is a problem, please confirm the requests\")\n",
    "                break\n",
    "            data = response.json()\n",
    "            df.extend(data.get('results', []))\n",
    "            next_page_token = data.get('next_page_token')\n",
    "            if not next_page_token:\n",
    "                break\n",
    "            params['pagetoken'] = next_page_token\n",
    "            \n",
    "            time.sleep(2)\n",
    "        time.sleep(4)\n",
    "        print(f'round {round}')\n",
    "        round += 1\n",
    "\n",
    "    return df\n",
    "\n",
    "data = trial_function(coor)\n",
    "df = pd.json_normalize(data)\n",
    "print(len(df))"
   ]
  }
 ],
 "metadata": {
  "language_info": {
   "name": "python"
  }
 },
 "nbformat": 4,
 "nbformat_minor": 2
}
