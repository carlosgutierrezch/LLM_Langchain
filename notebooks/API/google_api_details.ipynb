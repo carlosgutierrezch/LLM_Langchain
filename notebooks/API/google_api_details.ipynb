{
 "cells": [
  {
   "cell_type": "code",
   "execution_count": 1,
   "metadata": {},
   "outputs": [],
   "source": [
    "import pandas as pd\n",
    "import requests\n",
    "import time\n",
    "import os"
   ]
  },
  {
   "cell_type": "code",
   "execution_count": 2,
   "metadata": {},
   "outputs": [],
   "source": [
    "def transform_json(json_list):\n",
    "    df= pd.json_normalize(json_list)\n",
    "    df.rename(columns={'html_attributions':'html_attributions',\n",
    "                        'status':'status',\n",
    "                        'result.editorial_summary.language':'language',\n",
    "                        'result.editorial_summary.overview':'overview',\n",
    "                        'result.formatted_phone_number':'formatted_phone_number',\n",
    "                        'result.name':'name',\n",
    "                        'result.opening_hours.open_now':'open_now',\n",
    "                        'result.opening_hours.periods':'periods',\n",
    "                        'result.opening_hours.weekday_text':'weekday_text',\n",
    "                        'result.place_id':'place_id',\n",
    "                        'result.rating':'rating',\n",
    "                        'result.reviews':'reviews',\n",
    "                        'result.url':'url',\n",
    "                        'result.user_ratings_total':'user_ratings_total',\n",
    "                        'result.website':'website',\n",
    "                        'result.wheelchair_accessible_entrance':'wheelchair_accessible_entrance',\n",
    "                        'result.delivery':'delivery',\n",
    "                        'result.dine_in':'dine_in',\n",
    "                        'result.price_level':'price_level',\n",
    "                        'result.reservable':'reservable',\n",
    "                        'result.serves_beer':'serves_beer',\n",
    "                        'result.serves_breakfast':'serves_breakfast',\n",
    "                        'result.serves_brunch':'serves_brunch',\n",
    "                        'result.serves_dinner':'serves_dinner',\n",
    "                        'result.serves_lunch':'serves_lunch',\n",
    "                        'result.serves_vegetarian_food':'serves_vegetarian_food',\n",
    "                        'result.serves_wine':'serves_wine',\n",
    "                        'result.takeout':'takeout',\n",
    "                        'result.curbside_pickup':'curbside_pickup',\n",
    "                        },inplace=True)\n",
    "    df.drop(columns=['html_attributions','status','language'],inplace=True)\n",
    "    return df"
   ]
  },
  {
   "cell_type": "code",
   "execution_count": 3,
   "metadata": {},
   "outputs": [],
   "source": [
    "pd.reset_option(\"max_columns\")\n",
    "pd.set_option(\"max_colwidth\",None)\n",
    "pd.set_option('display.expand_frame_repr', False)\n",
    "pd.set_option('display.max_columns', 500)\n",
    "pd.set_option('display.width', 1000)"
   ]
  },
  {
   "cell_type": "code",
   "execution_count": 4,
   "metadata": {},
   "outputs": [],
   "source": [
    "df= pd.read_csv('/Users/main/Desktop/google_api/20240826V6.csv',index_col=0)"
   ]
  },
  {
   "cell_type": "code",
   "execution_count": 5,
   "metadata": {},
   "outputs": [],
   "source": [
    "data= df[['geometry.location.lat','geometry.location.lng']]"
   ]
  },
  {
   "cell_type": "code",
   "execution_count": 6,
   "metadata": {},
   "outputs": [],
   "source": [
    "place_id = []\n",
    "for _, row in df.iterrows():\n",
    "    place_id.append(row['place_id'])"
   ]
  },
  {
   "cell_type": "code",
   "execution_count": 7,
   "metadata": {},
   "outputs": [],
   "source": [
    "f_1000= place_id[800:1000]"
   ]
  },
  {
   "cell_type": "code",
   "execution_count": 8,
   "metadata": {},
   "outputs": [
    {
     "data": {
      "text/plain": [
       "200"
      ]
     },
     "execution_count": 8,
     "metadata": {},
     "output_type": "execute_result"
    }
   ],
   "source": [
    "len(f_1000)"
   ]
  },
  {
   "cell_type": "code",
   "execution_count": 10,
   "metadata": {},
   "outputs": [],
   "source": [
    "def download_details(id:list):\n",
    "    json_responses = []\n",
    "    round = 0\n",
    "    for place_id in id:\n",
    "        url_details = f\"https://maps.googleapis.com/maps/api/place/details/json?place_id={place_id}&fields=name%2Cformatted_phone_number%2Cplace_id%2Curl%2Cwheelchair_accessible_entrance%2Copening_hours%2Cwebsite%2Ccurbside_pickup%2Cdelivery%2Cdine_in%2Ceditorial_summary%2Cprice_level%2Crating%2Creservable%2Creviews%2Cserves_beer%2Cserves_breakfast%2Cserves_brunch%2Cserves_dinner%2Cserves_lunch%2Cserves_vegetarian_food%2Cserves_wine%2Ctakeout%2Cuser_ratings_total&key={os.getenv('GOOGLE_API_KEY')}\"\n",
    "        \n",
    "        response = requests.get(url_details)\n",
    "        \n",
    "        if response.status_code == 200:\n",
    "            json_responses.append(response.json())\n",
    "        else:\n",
    "            print(f\"Failed to retrieve data for place ID: {place_id} with status code: {response.status_code}\")\n",
    "        time.sleep(2)\n",
    "        round += 1\n",
    "        print(f'Round {round} complete.')\n",
    "    return json_responses"
   ]
  },
  {
   "cell_type": "code",
   "execution_count": 19,
   "metadata": {},
   "outputs": [],
   "source": [
    "data_1 = pd.read_csv('f_100.csv',index_col=0)\n",
    "data_2= pd. read_csv('f_200.csv',index_col=0)\n",
    "data_3= pd. read_csv('f_500.csv',index_col=0)\n",
    "data_4= pd. read_csv('f_800.csv',index_col=0)\n",
    "data_5= pd. read_csv('f_1000.csv',index_col=0)"
   ]
  },
  {
   "cell_type": "code",
   "execution_count": 20,
   "metadata": {},
   "outputs": [],
   "source": [
    "total_1000= pd.concat([data_1,data_2,data_3,data_4,data_5])"
   ]
  },
  {
   "cell_type": "code",
   "execution_count": 21,
   "metadata": {},
   "outputs": [
    {
     "data": {
      "text/plain": [
       "1000"
      ]
     },
     "execution_count": 21,
     "metadata": {},
     "output_type": "execute_result"
    }
   ],
   "source": [
    "len(total_1000)"
   ]
  },
  {
   "cell_type": "code",
   "execution_count": 22,
   "metadata": {},
   "outputs": [],
   "source": [
    "total_1000.to_csv('total_1000.csv')"
   ]
  }
 ],
 "metadata": {
  "kernelspec": {
   "display_name": "LLM",
   "language": "python",
   "name": "python3"
  },
  "language_info": {
   "codemirror_mode": {
    "name": "ipython",
    "version": 3
   },
   "file_extension": ".py",
   "mimetype": "text/x-python",
   "name": "python",
   "nbconvert_exporter": "python",
   "pygments_lexer": "ipython3",
   "version": "3.11.4"
  }
 },
 "nbformat": 4,
 "nbformat_minor": 2
}
