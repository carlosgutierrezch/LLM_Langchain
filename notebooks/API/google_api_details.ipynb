{
 "cells": [
  {
   "cell_type": "code",
   "execution_count": 1,
   "metadata": {},
   "outputs": [],
   "source": [
    "import pandas as pd\n",
    "import requests\n",
    "import time\n",
    "import os"
   ]
  },
  {
   "cell_type": "code",
   "execution_count": 2,
   "metadata": {},
   "outputs": [],
   "source": [
    "pd.reset_option(\"max_columns\")\n",
    "pd.set_option(\"max_colwidth\",None)\n",
    "pd.set_option('display.expand_frame_repr', False)\n",
    "pd.set_option('display.max_columns', 500)\n",
    "pd.set_option('display.width', 1000)"
   ]
  },
  {
   "cell_type": "code",
   "execution_count": 5,
   "metadata": {},
   "outputs": [],
   "source": [
    "df= pd.read_csv('/Users/main/Desktop/google_api/20240826V6.csv',index_col=0)"
   ]
  },
  {
   "cell_type": "code",
   "execution_count": 10,
   "metadata": {},
   "outputs": [
    {
     "data": {
      "text/plain": [
       "4277"
      ]
     },
     "execution_count": 10,
     "metadata": {},
     "output_type": "execute_result"
    }
   ],
   "source": [
    "len(df.place_id.unique())"
   ]
  },
  {
   "cell_type": "code",
   "execution_count": 7,
   "metadata": {},
   "outputs": [],
   "source": [
    "data= df[['geometry.location.lat','geometry.location.lng']]"
   ]
  },
  {
   "cell_type": "code",
   "execution_count": 30,
   "metadata": {},
   "outputs": [],
   "source": [
    "# data.to_csv('locations.csv')"
   ]
  },
  {
   "cell_type": "code",
   "execution_count": 33,
   "metadata": {},
   "outputs": [],
   "source": [
    "place_id = []\n",
    "for _, row in df.iterrows():\n",
    "    place_id.append(row['place_id'])"
   ]
  },
  {
   "cell_type": "code",
   "execution_count": 35,
   "metadata": {},
   "outputs": [],
   "source": [
    "f_100= place_id[:100]"
   ]
  },
  {
   "cell_type": "code",
   "execution_count": 36,
   "metadata": {},
   "outputs": [
    {
     "name": "stdout",
     "output_type": "stream",
     "text": [
      "Round 1 complete.\n",
      "Round 2 complete.\n",
      "Round 3 complete.\n",
      "Round 4 complete.\n",
      "Round 5 complete.\n",
      "Round 6 complete.\n",
      "Round 7 complete.\n",
      "Round 8 complete.\n",
      "Round 9 complete.\n",
      "Round 10 complete.\n",
      "Round 11 complete.\n",
      "Round 12 complete.\n",
      "Round 13 complete.\n",
      "Round 14 complete.\n",
      "Round 15 complete.\n",
      "Round 16 complete.\n",
      "Round 17 complete.\n",
      "Round 18 complete.\n",
      "Round 19 complete.\n",
      "Round 20 complete.\n",
      "Round 21 complete.\n",
      "Round 22 complete.\n",
      "Round 23 complete.\n",
      "Round 24 complete.\n",
      "Round 25 complete.\n",
      "Round 26 complete.\n",
      "Round 27 complete.\n",
      "Round 28 complete.\n",
      "Round 29 complete.\n",
      "Round 30 complete.\n",
      "Round 31 complete.\n",
      "Round 32 complete.\n",
      "Round 33 complete.\n",
      "Round 34 complete.\n",
      "Round 35 complete.\n",
      "Round 36 complete.\n",
      "Round 37 complete.\n",
      "Round 38 complete.\n",
      "Round 39 complete.\n",
      "Round 40 complete.\n",
      "Round 41 complete.\n",
      "Round 42 complete.\n",
      "Round 43 complete.\n",
      "Round 44 complete.\n",
      "Round 45 complete.\n",
      "Round 46 complete.\n",
      "Round 47 complete.\n",
      "Round 48 complete.\n",
      "Round 49 complete.\n",
      "Round 50 complete.\n",
      "Round 51 complete.\n",
      "Round 52 complete.\n",
      "Round 53 complete.\n",
      "Round 54 complete.\n",
      "Round 55 complete.\n",
      "Round 56 complete.\n",
      "Round 57 complete.\n",
      "Round 58 complete.\n",
      "Round 59 complete.\n",
      "Round 60 complete.\n",
      "Round 61 complete.\n",
      "Round 62 complete.\n",
      "Round 63 complete.\n",
      "Round 64 complete.\n",
      "Round 65 complete.\n",
      "Round 66 complete.\n",
      "Round 67 complete.\n",
      "Round 68 complete.\n",
      "Round 69 complete.\n",
      "Round 70 complete.\n",
      "Round 71 complete.\n",
      "Round 72 complete.\n",
      "Round 73 complete.\n",
      "Round 74 complete.\n",
      "Round 75 complete.\n",
      "Round 76 complete.\n",
      "Round 77 complete.\n",
      "Round 78 complete.\n",
      "Round 79 complete.\n",
      "Round 80 complete.\n",
      "Round 81 complete.\n",
      "Round 82 complete.\n",
      "Round 83 complete.\n",
      "Round 84 complete.\n",
      "Round 85 complete.\n",
      "Round 86 complete.\n",
      "Round 87 complete.\n",
      "Round 88 complete.\n",
      "Round 89 complete.\n",
      "Round 90 complete.\n",
      "Round 91 complete.\n",
      "Round 92 complete.\n",
      "Round 93 complete.\n",
      "Round 94 complete.\n",
      "Round 95 complete.\n",
      "Round 96 complete.\n",
      "Round 97 complete.\n",
      "Round 98 complete.\n",
      "Round 99 complete.\n",
      "Round 100 complete.\n"
     ]
    }
   ],
   "source": [
    "\n",
    "json_responses = []\n",
    "round = 0\n",
    "\n",
    "\n",
    "for place_id in f_100:\n",
    "    url_details = f\"https://maps.googleapis.com/maps/api/place/details/json?place_id={place_id}&fields=name%2Cformatted_phone_number%2Cplace_id%2Curl%2Cwheelchair_accessible_entrance%2Copening_hours%2Cwebsite%2Ccurbside_pickup%2Cdelivery%2Cdine_in%2Ceditorial_summary%2Cprice_level%2Crating%2Creservable%2Creviews%2Cserves_beer%2Cserves_breakfast%2Cserves_brunch%2Cserves_dinner%2Cserves_lunch%2Cserves_vegetarian_food%2Cserves_wine%2Ctakeout%2Cuser_ratings_total&key={os.getenv('GOOGLE_API_KEY')}\"\n",
    "    \n",
    "    response = requests.get(url_details)\n",
    "    \n",
    "    if response.status_code == 200:\n",
    "        json_responses.append(response.json())\n",
    "    else:\n",
    "        print(f\"Failed to retrieve data for place ID: {place_id} with status code: {response.status_code}\")\n",
    "    \n",
    "    time.sleep(2)\n",
    "    round += 1\n",
    "    print(f'Round {round} complete.')"
   ]
  },
  {
   "cell_type": "code",
   "execution_count": 37,
   "metadata": {},
   "outputs": [],
   "source": [
    "df= pd.json_normalize(json_responses)"
   ]
  },
  {
   "cell_type": "code",
   "execution_count": 40,
   "metadata": {},
   "outputs": [],
   "source": [
    "df.to_csv('first_100.csv')"
   ]
  },
  {
   "cell_type": "code",
   "execution_count": 52,
   "metadata": {},
   "outputs": [
    {
     "name": "stdout",
     "output_type": "stream",
     "text": [
      "'html_attributions':'html_attributions',\\\n",
      "'status':'status',\\\n",
      "'result.editorial_summary.language':'language',\\\n",
      "'result.editorial_summary.overview':'overview',\\\n",
      "'result.formatted_phone_number':'formatted_phone_number',\\\n",
      "'result.name':'name',\\\n",
      "'result.opening_hours.open_now':'open_now',\\\n",
      "'result.opening_hours.periods':'periods',\\\n",
      "'result.opening_hours.weekday_text':'weekday_text',\\\n",
      "'result.place_id':'place_id',\\\n",
      "'result.rating':'rating',\\\n",
      "'result.reviews':'reviews',\\\n",
      "'result.url':'url',\\\n",
      "'result.user_ratings_total':'user_ratings_total',\\\n",
      "'result.website':'website',\\\n",
      "'result.wheelchair_accessible_entrance':'wheelchair_accessible_entrance',\\\n",
      "'result.delivery':'delivery',\\\n",
      "'result.dine_in':'dine_in',\\\n",
      "'result.price_level':'price_level',\\\n",
      "'result.reservable':'reservable',\\\n",
      "'result.serves_beer':'serves_beer',\\\n",
      "'result.serves_breakfast':'serves_breakfast',\\\n",
      "'result.serves_brunch':'serves_brunch',\\\n",
      "'result.serves_dinner':'serves_dinner',\\\n",
      "'result.serves_lunch':'serves_lunch',\\\n",
      "'result.serves_vegetarian_food':'serves_vegetarian_food',\\\n",
      "'result.serves_wine':'serves_wine',\\\n",
      "'result.takeout':'takeout',\\\n",
      "'result.curbside_pickup':'curbside_pickup',\\\n"
     ]
    }
   ],
   "source": [
    "for x in df.columns:\n",
    "    print(f\"'{x}':'{x.split('.')[-1]}',\\\\\")"
   ]
  },
  {
   "cell_type": "code",
   "execution_count": 53,
   "metadata": {},
   "outputs": [],
   "source": [
    "df.rename(columns={'html_attributions':'html_attributions',\\\n",
    "'status':'status',\\\n",
    "'result.editorial_summary.language':'language',\\\n",
    "'result.editorial_summary.overview':'overview',\\\n",
    "'result.formatted_phone_number':'formatted_phone_number',\\\n",
    "'result.name':'name',\\\n",
    "'result.opening_hours.open_now':'open_now',\\\n",
    "'result.opening_hours.periods':'periods',\\\n",
    "'result.opening_hours.weekday_text':'weekday_text',\\\n",
    "'result.place_id':'place_id',\\\n",
    "'result.rating':'rating',\\\n",
    "'result.reviews':'reviews',\\\n",
    "'result.url':'url',\\\n",
    "'result.user_ratings_total':'user_ratings_total',\\\n",
    "'result.website':'website',\\\n",
    "'result.wheelchair_accessible_entrance':'wheelchair_accessible_entrance',\\\n",
    "'result.delivery':'delivery',\\\n",
    "'result.dine_in':'dine_in',\\\n",
    "'result.price_level':'price_level',\\\n",
    "'result.reservable':'reservable',\\\n",
    "'result.serves_beer':'serves_beer',\\\n",
    "'result.serves_breakfast':'serves_breakfast',\\\n",
    "'result.serves_brunch':'serves_brunch',\\\n",
    "'result.serves_dinner':'serves_dinner',\\\n",
    "'result.serves_lunch':'serves_lunch',\\\n",
    "'result.serves_vegetarian_food':'serves_vegetarian_food',\\\n",
    "'result.serves_wine':'serves_wine',\\\n",
    "'result.takeout':'takeout',\\\n",
    "'result.curbside_pickup':'curbside_pickup',\\\n",
    "},inplace=True)"
   ]
  },
  {
   "cell_type": "code",
   "execution_count": 55,
   "metadata": {},
   "outputs": [],
   "source": [
    "df.drop(columns=['html_attributions','status','language'],inplace=True)"
   ]
  },
  {
   "cell_type": "code",
   "execution_count": 58,
   "metadata": {},
   "outputs": [],
   "source": [
    "opening_hours= df[['name','place_id','periods','weekday_text']]"
   ]
  },
  {
   "cell_type": "code",
   "execution_count": 60,
   "metadata": {},
   "outputs": [],
   "source": [
    "opening_hours.to_csv('periods_100.csv')"
   ]
  },
  {
   "cell_type": "code",
   "execution_count": 62,
   "metadata": {},
   "outputs": [],
   "source": [
    "reviews= df[['name','place_id','reviews','user_ratings_total','rating']]"
   ]
  },
  {
   "cell_type": "code",
   "execution_count": 63,
   "metadata": {},
   "outputs": [],
   "source": [
    "reviews.to_csv('100_reviews.csv')"
   ]
  }
 ],
 "metadata": {
  "kernelspec": {
   "display_name": "LLM",
   "language": "python",
   "name": "python3"
  },
  "language_info": {
   "codemirror_mode": {
    "name": "ipython",
    "version": 3
   },
   "file_extension": ".py",
   "mimetype": "text/x-python",
   "name": "python",
   "nbconvert_exporter": "python",
   "pygments_lexer": "ipython3",
   "version": "3.11.4"
  }
 },
 "nbformat": 4,
 "nbformat_minor": 2
}
