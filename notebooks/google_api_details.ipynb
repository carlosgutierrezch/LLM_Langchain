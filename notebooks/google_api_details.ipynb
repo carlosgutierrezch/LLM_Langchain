{
 "cells": [
  {
   "cell_type": "code",
   "execution_count": 1,
   "metadata": {},
   "outputs": [],
   "source": [
    "import pandas as pd\n",
    "import requests\n",
    "import time\n",
    "import os"
   ]
  },
  {
   "cell_type": "code",
   "execution_count": 2,
   "metadata": {},
   "outputs": [],
   "source": [
    "pd.reset_option(\"max_columns\")\n",
    "pd.set_option(\"max_colwidth\",None)\n",
    "pd.set_option('display.expand_frame_repr', False)\n",
    "pd.set_option('display.max_columns', 500)\n",
    "pd.set_option('display.width', 1000)"
   ]
  },
  {
   "cell_type": "code",
   "execution_count": 38,
   "metadata": {},
   "outputs": [
    {
     "name": "stdout",
     "output_type": "stream",
     "text": [
      "Round 1 complete.\n"
     ]
    }
   ],
   "source": [
    "\n",
    "json_responses = []\n",
    "round = 0\n",
    "place_ids = [...]\n",
    "\n",
    "for place_id in place_ids:\n",
    "    url_details = f\"https://maps.googleapis.com/maps/api/place/details/json?place_id={place_id}&fields=name%2Cformatted_phone_number%2Cplace_id%2Curl%2Cwheelchair_accessible_entrance%2Copening_hours%2Cwebsite%2Ccurbside_pickup%2Cdelivery%2Cdine_in%2Ceditorial_summary%2Cprice_level%2Crating%2Creservable%2Creviews%2Cserves_beer%2Cserves_breakfast%2Cserves_brunch%2Cserves_dinner%2Cserves_lunch%2Cserves_vegetarian_food%2Cserves_wine%2Ctakeout%2Cuser_ratings_total&key={os.getenv('GOOGLE_API_KEY')}\"\n",
    "    \n",
    "    response = requests.get(url_details)\n",
    "    \n",
    "    if response.status_code == 200:\n",
    "        json_responses.append(response.json())\n",
    "    else:\n",
    "        print(f\"Failed to retrieve data for place ID: {place_id} with status code: {response.status_code}\")\n",
    "    \n",
    "    time.sleep(2)\n",
    "    round += 1\n",
    "    print(f'Round {round} complete.')"
   ]
  },
  {
   "cell_type": "code",
   "execution_count": 36,
   "metadata": {},
   "outputs": [],
   "source": [
    "df= pd.json_normalize(json_responses)"
   ]
  }
 ],
 "metadata": {
  "kernelspec": {
   "display_name": "LLM",
   "language": "python",
   "name": "python3"
  },
  "language_info": {
   "codemirror_mode": {
    "name": "ipython",
    "version": 3
   },
   "file_extension": ".py",
   "mimetype": "text/x-python",
   "name": "python",
   "nbconvert_exporter": "python",
   "pygments_lexer": "ipython3",
   "version": "3.11.4"
  }
 },
 "nbformat": 4,
 "nbformat_minor": 2
}
