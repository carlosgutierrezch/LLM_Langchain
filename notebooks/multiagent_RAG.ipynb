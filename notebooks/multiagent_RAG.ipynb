{
 "cells": [
  {
   "cell_type": "markdown",
   "metadata": {},
   "source": [
    "### Basic RAG retriever using Langchain and Anthropic model"
   ]
  },
  {
   "cell_type": "markdown",
   "metadata": {},
   "source": [
    "../notebooks/data/cleaned20242108.csv"
   ]
  },
  {
   "cell_type": "code",
   "execution_count": 1,
   "metadata": {},
   "outputs": [
    {
     "name": "stderr",
     "output_type": "stream",
     "text": [
      "USER_AGENT environment variable not set, consider setting it to identify your requests.\n"
     ]
    }
   ],
   "source": [
    "import bs4\n",
    "from langchain import hub\n",
    "from langchain_chroma import Chroma\n",
    "from langchain_community.document_loaders import WebBaseLoader\n",
    "from langchain_core.output_parsers import StrOutputParser\n",
    "from langchain_core.runnables import RunnablePassthrough\n",
    "from langchain_core.vectorstores import InMemoryVectorStore\n",
    "from langchain_community.embeddings import OllamaEmbeddings\n",
    "from langchain_text_splitters import RecursiveCharacterTextSplitter\n",
    "from langchain_anthropic import ChatAnthropic\n",
    "from langchain.chains import create_sql_query_chain\n",
    "from langchain_community.utilities import SQLDatabase\n",
    "\n",
    "import os\n",
    "from dotenv import load_dotenv\n",
    "load_dotenv()\n",
    "os.environ[\"LANGCHAIN_API_KEY\"]= os.getenv(\"LANGCHAIN_API_KEY\")\n",
    "llm = ChatAnthropic(model=\"claude-3-5-sonnet-20240620\")"
   ]
  },
  {
   "cell_type": "code",
   "execution_count": 2,
   "metadata": {},
   "outputs": [
    {
     "name": "stdout",
     "output_type": "stream",
     "text": [
      "sqlite\n",
      "['restaurants', 'restaurants_madrid']\n"
     ]
    },
    {
     "data": {
      "text/plain": [
       "\"[(0, 'OPERATIONAL', 'https://maps.gstatic.com/mapfiles/place_api/icons/v1/png_71/lodging-71.png', '#909CE1', 'https://maps.gstatic.com/mapfiles/place_api/icons/v2/hotel_pinlet', 'VP Jardín de Recoletos', 'ChIJ0U9LFZooQg0RgdlcHxZdkek', 4.5, 'ChIJ0U9LFZooQg0RgdlcHxZdkek', 'GOOGLE', 611.0, 'Calle de Gil de Santivañes, 6, Madrid', 40.4223075, -3.689168100000001, 40.42368518029149, -3.687793119708498, 40.42098721970849, -3.690491080291502, 1, 'C8C6+W8 Madrid, Spain', '8CGRC8C6+W8', None, None), (1, 'OPERATIONAL', 'https://maps.gstatic.com/mapfiles/place_api/icons/v1/png_71/restaurant-71.png', '#FF9E67', 'https://maps.gstatic.com/mapfiles/place_api/icons/v2/restaurant_pinlet', 'New York Burger', 'ChIJ2fFEjZooQg0RbySrRH-t_nk', 4.5, 'ChIJ2fFEjZooQg0RbySrRH-t_nk', 'GOOGLE', 7357.0, 'Calle de Recoletos, 4, Madrid', 40.422131, -3.6908463, 40.4234758302915, -3.689437969708498, 40.4207778697085, -3.692135930291502, 1, 'C8C5+VM Madrid, Spain', '8CGRC8C5+VM', 2.0, None), (2, 'CLOSED_TEMPORARILY', 'https://maps.gstatic.com/mapfiles/place_api/icons/v1/png_71/restaurant-71.png', '#FF9E67', 'https://maps.gstatic.com/mapfiles/place_api/icons/v2/restaurant_pinlet', 'Restaurante Green House Madrid | Cena con Espectáculo en Madrid', 'ChIJ01K8OpAoQg0RZbkTsA926Nw', 4.0, 'ChIJ01K8OpAoQg0RZbkTsA926Nw', 'GOOGLE', 695.0, 'Centro Colón, Calle del Marqués de la Ensenada, 16, Madrid', 40.42509629999999, -3.691769, 40.42661023029149, -3.690242219708498, 40.4239122697085, -3.692940180291503, None, 'C8G5+27 Madrid, Spain', '8CGRC8G5+27', None, 1), (3, 'OPERATIONAL', 'https://maps.gstatic.com/mapfiles/place_api/icons/v1/png_71/restaurant-71.png', '#FF9E67', 'https://maps.gstatic.com/mapfiles/place_api/icons/v2/restaurant_pinlet', 'Restaurante La Castafiore', 'ChIJD88fWoUoQg0RkhUY7QtqTvk', 4.5, 'ChIJD88fWoUoQg0RkhUY7QtqTvk', 'GOOGLE', 1336.0, 'Calle Marqués de Monasterio, 5, Madrid', 40.4231173, -3.6934692, 40.4244119302915, -3.692125569708498, 40.4217139697085, -3.694823530291503, 0, 'C8F4+6J Madrid, Spain', '8CGRC8F4+6J', 3.0, None), (4, 'OPERATIONAL', 'https://maps.gstatic.com/mapfiles/place_api/icons/v1/png_71/restaurant-71.png', '#FF9E67', 'https://maps.gstatic.com/mapfiles/place_api/icons/v2/restaurant_pinlet', 'Tampu', 'ChIJpWlI08QoQg0RXJi7Rzb0tvk', 4.6, 'ChIJpWlI08QoQg0RXJi7Rzb0tvk', 'GOOGLE', 2295.0, 'Calle de Prim, 13, Madrid', 40.42196219999999, -3.693511499999999, 40.4232776302915, -3.692175919708498, 40.4205796697085, -3.694873880291502, 0, 'C8C4+QH Madrid, Spain', '8CGRC8C4+QH', 2.0, None), (5, 'OPERATIONAL', 'https://maps.gstatic.com/mapfiles/place_api/icons/v1/png_71/restaurant-71.png', '#FF9E67', 'https://maps.gstatic.com/mapfiles/place_api/icons/v2/restaurant_pinlet', 'La Vaca y La Huerta', 'ChIJF1TkW5ooQg0RyPgnkniUgVs', 4.5, 'ChIJF1TkW5ooQg0RyPgnkniUgVs', 'GOOGLE', 1735.0, 'Calle de Recoletos, 7, Madrid', 40.42207549999999, -3.6903693, 40.4233807802915, -3.689049169708497, 40.4206828197085, -3.691747130291502, 0, 'C8C5+RV Madrid, Spain', '8CGRC8C5+RV', 2.0, None), (6, 'OPERATIONAL', 'https://maps.gstatic.com/mapfiles/place_api/icons/v1/png_71/restaurant-71.png', '#FF9E67', 'https://maps.gstatic.com/mapfiles/place_api/icons/v2/restaurant_pinlet', 'Restaurante Al Mounia', 'ChIJPZGh9JooQg0R4g5zG6wE16I', 4.3, 'ChIJPZGh9JooQg0R4g5zG6wE16I', 'GOOGLE', 1825.0, 'Calle de Recoletos, 5, Madrid', 40.4221713, -3.690575899999999, 40.42358118029149, -3.689558719708498, 40.4208832197085, -3.692256680291502, 1, 'C8C5+VQ Madrid, Spain', '8CGRC8C5+VQ', 2.0, None), (7, 'OPERATIONAL', 'https://maps.gstatic.com/mapfiles/place_api/icons/v1/png_71/restaurant-71.png', '#FF9E67', 'https://maps.gstatic.com/mapfiles/place_api/icons/v2/restaurant_pinlet', 'The Barrel of Recoletos', 'ChIJ17ae9ZooQg0RKKPmn3LWlps', 4.1, 'ChIJ17ae9ZooQg0RKKPmn3LWlps', 'GOOGLE', 669.0, 'Calle de Recoletos, 9, Madrid', 40.422064, -3.6903112, 40.4233746302915, -3.688983119708498, 40.42067666970851, -3.691681080291503, 1, 'C8C5+RV Madrid, Spain', '8CGRC8C5+RV', 3.0, None), (8, 'OPERATIONAL', 'https://maps.gstatic.com/mapfiles/place_api/icons/v1/png_71/restaurant-71.png', '#FF9E67', 'https://maps.gstatic.com/mapfiles/place_api/icons/v2/restaurant_pinlet', 'Restaurante La Buena Vida', 'ChIJVeedZ4UoQg0RoItCcogdOb4', 4.4, 'ChIJVeedZ4UoQg0RoItCcogdOb4', 'GOOGLE', 318.0, 'Calle del Conde de Xiquena, 8, Madrid', 40.4229555, -3.6940177, 40.4243030302915, -3.692724269708497, 40.4216050697085, -3.695422230291502, 0, 'C8F4+59 Madrid, Spain', '8CGRC8F4+59', 3.0, None), (9, 'CLOSED_TEMPORARILY', 'https://maps.gstatic.com/mapfiles/place_api/icons/v1/png_71/restaurant-71.png', '#FF9E67', 'https://maps.gstatic.com/mapfiles/place_api/icons/v2/restaurant_pinlet', 'Pelotari', 'ChIJy3QtjZooQg0RU84SlnAgZCs', 4.5, 'ChIJy3QtjZooQg0RU84SlnAgZCs', 'GOOGLE', 1229.0, 'Calle de Recoletos, 3, Madrid', 40.4222232, -3.6906525, 40.42359518029149, -3.689627769708497, 40.42089721970849, -3.692325730291502, None, 'C8C5+VP Madrid, Spain', '8CGRC8C5+VP', 3.0, 1)]\""
      ]
     },
     "execution_count": 2,
     "metadata": {},
     "output_type": "execute_result"
    }
   ],
   "source": [
    "db = SQLDatabase.from_uri(\"sqlite:////Users/main/Desktop/database/llm.db\")\n",
    "print(db.dialect)\n",
    "print(db.get_usable_table_names())\n",
    "db.run(\"SELECT * FROM restaurants LIMIT 10;\")"
   ]
  },
  {
   "cell_type": "code",
   "execution_count": 3,
   "metadata": {},
   "outputs": [
    {
     "data": {
      "text/plain": [
       "'Error: (sqlite3.OperationalError) near \"I\": syntax error\\n[SQL: I apologize for the confusion in my previous response. You\\'re right, we don\\'t need to use double quotes for the alias in this case. Here\\'s the correct query:\\n\\nSQLQuery: SELECT COUNT(*) AS total_restaurants FROM restaurants_madrid]\\n(Background on this error at: https://sqlalche.me/e/20/e3q8)'"
      ]
     },
     "execution_count": 3,
     "metadata": {},
     "output_type": "execute_result"
    }
   ],
   "source": [
    "from langchain_community.tools.sql_database.tool import QuerySQLDataBaseTool\n",
    "\n",
    "execute_query = QuerySQLDataBaseTool(db=db)\n",
    "write_query = create_sql_query_chain(llm, db)\n",
    "chain = write_query | execute_query\n",
    "chain.invoke({\"question\": \"how many restaurants are in the restaurants_madrid table? dont use double notation mark in the query for getting total_restaurants, toherwise you will not give me a result\"})"
   ]
  },
  {
   "cell_type": "code",
   "execution_count": 4,
   "metadata": {},
   "outputs": [
    {
     "data": {
      "text/plain": [
       "'I apologize, but I cannot provide an accurate answer to the question based on the information given. The SQL query execution resulted in an error, specifically a syntax error. This error occurred because the entire explanation was included in the SQL execution, rather than just the actual SQL query.\\n\\nThe correct SQL query to count the number of restaurants in the restaurants_madrid table would be:\\n\\n```sql\\nSELECT COUNT(*) AS total_restaurants FROM restaurants_madrid\\n```\\n\\nHowever, since this query was not successfully executed due to the error, we don\\'t have the actual result to answer the question \"How many restaurants are in the restaurants_madrid table?\".\\n\\nTo get the correct answer, the SQL query needs to be executed properly without the additional text, and then we would need to see the result of that query.'"
      ]
     },
     "execution_count": 4,
     "metadata": {},
     "output_type": "execute_result"
    }
   ],
   "source": [
    "from operator import itemgetter\n",
    "from langchain_core.output_parsers import StrOutputParser\n",
    "from langchain_core.prompts import PromptTemplate\n",
    "from langchain_core.runnables import RunnablePassthrough\n",
    "\n",
    "answer_prompt = PromptTemplate.from_template(\n",
    "    \"\"\"Given the following user question, corresponding SQL query, and SQL result, answer the user question.\n",
    "\n",
    "Question: {question}\n",
    "SQL Query: {query}\n",
    "SQL Result: {result}\n",
    "Answer: \"\"\"\n",
    ")\n",
    "\n",
    "chain = (\n",
    "    RunnablePassthrough.assign(query=write_query).assign(\n",
    "        result=itemgetter(\"query\") | execute_query\n",
    "    )\n",
    "    | answer_prompt\n",
    "    | llm\n",
    "    | StrOutputParser()\n",
    ")\n",
    "\n",
    "chain.invoke({\"question\": \"How many restaurants are in the restaurants_madrid table?\"})"
   ]
  },
  {
   "cell_type": "code",
   "execution_count": null,
   "metadata": {},
   "outputs": [],
   "source": []
  }
 ],
 "metadata": {
  "kernelspec": {
   "display_name": "LLM",
   "language": "python",
   "name": "python3"
  },
  "language_info": {
   "codemirror_mode": {
    "name": "ipython",
    "version": 3
   },
   "file_extension": ".py",
   "mimetype": "text/x-python",
   "name": "python",
   "nbconvert_exporter": "python",
   "pygments_lexer": "ipython3",
   "version": "3.11.4"
  }
 },
 "nbformat": 4,
 "nbformat_minor": 2
}
