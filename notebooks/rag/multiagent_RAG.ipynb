{
 "cells": [
  {
   "cell_type": "markdown",
   "metadata": {},
   "source": [
    "### Basic RAG retriever using Langchain and Anthropic model"
   ]
  },
  {
   "cell_type": "markdown",
   "metadata": {},
   "source": [
    "../notebooks/data/cleaned20242108.csv"
   ]
  },
  {
   "cell_type": "code",
   "execution_count": 1,
   "metadata": {},
   "outputs": [
    {
     "name": "stderr",
     "output_type": "stream",
     "text": [
      "USER_AGENT environment variable not set, consider setting it to identify your requests.\n"
     ]
    }
   ],
   "source": [
    "import bs4\n",
    "from langchain import hub\n",
    "from langchain_chroma import Chroma\n",
    "from langchain_community.document_loaders import WebBaseLoader\n",
    "from langchain_core.output_parsers import StrOutputParser\n",
    "from langchain_core.runnables import RunnablePassthrough\n",
    "from langchain_core.vectorstores import InMemoryVectorStore\n",
    "from langchain_community.embeddings import OllamaEmbeddings\n",
    "from langchain_text_splitters import RecursiveCharacterTextSplitter\n",
    "from langchain_anthropic import ChatAnthropic\n",
    "from langchain.chains import create_sql_query_chain\n",
    "from langchain_community.utilities import SQLDatabase\n",
    "\n",
    "import os\n",
    "from dotenv import load_dotenv\n",
    "load_dotenv()\n",
    "os.environ[\"LANGCHAIN_API_KEY\"]= os.getenv(\"LANGCHAIN_API_KEY\")\n",
    "llm = ChatAnthropic(model=\"claude-3-5-sonnet-20240620\")\n",
    "os.environ[\"LANGCHAIN_PROJECT\"] = \"Trials\""
   ]
  },
  {
   "cell_type": "code",
   "execution_count": 2,
   "metadata": {},
   "outputs": [
    {
     "name": "stdout",
     "output_type": "stream",
     "text": [
      "sqlite\n",
      "['restaurants', 'restaurants_madrid']\n"
     ]
    },
    {
     "data": {
      "text/plain": [
       "\"[(0, 'OPERATIONAL', 'https://maps.gstatic.com/mapfiles/place_api/icons/v1/png_71/lodging-71.png', '#909CE1', 'https://maps.gstatic.com/mapfiles/place_api/icons/v2/hotel_pinlet', 'VP Jardín de Recoletos', 'ChIJ0U9LFZooQg0RgdlcHxZdkek', 4.5, 'ChIJ0U9LFZooQg0RgdlcHxZdkek', 'GOOGLE', 611.0, 'Calle de Gil de Santivañes, 6, Madrid', 40.4223075, -3.689168100000001, 40.42368518029149, -3.687793119708498, 40.42098721970849, -3.690491080291502, 1, 'C8C6+W8 Madrid, Spain', '8CGRC8C6+W8', None, None), (1, 'OPERATIONAL', 'https://maps.gstatic.com/mapfiles/place_api/icons/v1/png_71/restaurant-71.png', '#FF9E67', 'https://maps.gstatic.com/mapfiles/place_api/icons/v2/restaurant_pinlet', 'New York Burger', 'ChIJ2fFEjZooQg0RbySrRH-t_nk', 4.5, 'ChIJ2fFEjZooQg0RbySrRH-t_nk', 'GOOGLE', 7357.0, 'Calle de Recoletos, 4, Madrid', 40.422131, -3.6908463, 40.4234758302915, -3.689437969708498, 40.4207778697085, -3.692135930291502, 1, 'C8C5+VM Madrid, Spain', '8CGRC8C5+VM', 2.0, None), (2, 'CLOSED_TEMPORARILY', 'https://maps.gstatic.com/mapfiles/place_api/icons/v1/png_71/restaurant-71.png', '#FF9E67', 'https://maps.gstatic.com/mapfiles/place_api/icons/v2/restaurant_pinlet', 'Restaurante Green House Madrid | Cena con Espectáculo en Madrid', 'ChIJ01K8OpAoQg0RZbkTsA926Nw', 4.0, 'ChIJ01K8OpAoQg0RZbkTsA926Nw', 'GOOGLE', 695.0, 'Centro Colón, Calle del Marqués de la Ensenada, 16, Madrid', 40.42509629999999, -3.691769, 40.42661023029149, -3.690242219708498, 40.4239122697085, -3.692940180291503, None, 'C8G5+27 Madrid, Spain', '8CGRC8G5+27', None, 1), (3, 'OPERATIONAL', 'https://maps.gstatic.com/mapfiles/place_api/icons/v1/png_71/restaurant-71.png', '#FF9E67', 'https://maps.gstatic.com/mapfiles/place_api/icons/v2/restaurant_pinlet', 'Restaurante La Castafiore', 'ChIJD88fWoUoQg0RkhUY7QtqTvk', 4.5, 'ChIJD88fWoUoQg0RkhUY7QtqTvk', 'GOOGLE', 1336.0, 'Calle Marqués de Monasterio, 5, Madrid', 40.4231173, -3.6934692, 40.4244119302915, -3.692125569708498, 40.4217139697085, -3.694823530291503, 0, 'C8F4+6J Madrid, Spain', '8CGRC8F4+6J', 3.0, None), (4, 'OPERATIONAL', 'https://maps.gstatic.com/mapfiles/place_api/icons/v1/png_71/restaurant-71.png', '#FF9E67', 'https://maps.gstatic.com/mapfiles/place_api/icons/v2/restaurant_pinlet', 'Tampu', 'ChIJpWlI08QoQg0RXJi7Rzb0tvk', 4.6, 'ChIJpWlI08QoQg0RXJi7Rzb0tvk', 'GOOGLE', 2295.0, 'Calle de Prim, 13, Madrid', 40.42196219999999, -3.693511499999999, 40.4232776302915, -3.692175919708498, 40.4205796697085, -3.694873880291502, 0, 'C8C4+QH Madrid, Spain', '8CGRC8C4+QH', 2.0, None), (5, 'OPERATIONAL', 'https://maps.gstatic.com/mapfiles/place_api/icons/v1/png_71/restaurant-71.png', '#FF9E67', 'https://maps.gstatic.com/mapfiles/place_api/icons/v2/restaurant_pinlet', 'La Vaca y La Huerta', 'ChIJF1TkW5ooQg0RyPgnkniUgVs', 4.5, 'ChIJF1TkW5ooQg0RyPgnkniUgVs', 'GOOGLE', 1735.0, 'Calle de Recoletos, 7, Madrid', 40.42207549999999, -3.6903693, 40.4233807802915, -3.689049169708497, 40.4206828197085, -3.691747130291502, 0, 'C8C5+RV Madrid, Spain', '8CGRC8C5+RV', 2.0, None), (6, 'OPERATIONAL', 'https://maps.gstatic.com/mapfiles/place_api/icons/v1/png_71/restaurant-71.png', '#FF9E67', 'https://maps.gstatic.com/mapfiles/place_api/icons/v2/restaurant_pinlet', 'Restaurante Al Mounia', 'ChIJPZGh9JooQg0R4g5zG6wE16I', 4.3, 'ChIJPZGh9JooQg0R4g5zG6wE16I', 'GOOGLE', 1825.0, 'Calle de Recoletos, 5, Madrid', 40.4221713, -3.690575899999999, 40.42358118029149, -3.689558719708498, 40.4208832197085, -3.692256680291502, 1, 'C8C5+VQ Madrid, Spain', '8CGRC8C5+VQ', 2.0, None), (7, 'OPERATIONAL', 'https://maps.gstatic.com/mapfiles/place_api/icons/v1/png_71/restaurant-71.png', '#FF9E67', 'https://maps.gstatic.com/mapfiles/place_api/icons/v2/restaurant_pinlet', 'The Barrel of Recoletos', 'ChIJ17ae9ZooQg0RKKPmn3LWlps', 4.1, 'ChIJ17ae9ZooQg0RKKPmn3LWlps', 'GOOGLE', 669.0, 'Calle de Recoletos, 9, Madrid', 40.422064, -3.6903112, 40.4233746302915, -3.688983119708498, 40.42067666970851, -3.691681080291503, 1, 'C8C5+RV Madrid, Spain', '8CGRC8C5+RV', 3.0, None), (8, 'OPERATIONAL', 'https://maps.gstatic.com/mapfiles/place_api/icons/v1/png_71/restaurant-71.png', '#FF9E67', 'https://maps.gstatic.com/mapfiles/place_api/icons/v2/restaurant_pinlet', 'Restaurante La Buena Vida', 'ChIJVeedZ4UoQg0RoItCcogdOb4', 4.4, 'ChIJVeedZ4UoQg0RoItCcogdOb4', 'GOOGLE', 318.0, 'Calle del Conde de Xiquena, 8, Madrid', 40.4229555, -3.6940177, 40.4243030302915, -3.692724269708497, 40.4216050697085, -3.695422230291502, 0, 'C8F4+59 Madrid, Spain', '8CGRC8F4+59', 3.0, None), (9, 'CLOSED_TEMPORARILY', 'https://maps.gstatic.com/mapfiles/place_api/icons/v1/png_71/restaurant-71.png', '#FF9E67', 'https://maps.gstatic.com/mapfiles/place_api/icons/v2/restaurant_pinlet', 'Pelotari', 'ChIJy3QtjZooQg0RU84SlnAgZCs', 4.5, 'ChIJy3QtjZooQg0RU84SlnAgZCs', 'GOOGLE', 1229.0, 'Calle de Recoletos, 3, Madrid', 40.4222232, -3.6906525, 40.42359518029149, -3.689627769708497, 40.42089721970849, -3.692325730291502, None, 'C8C5+VP Madrid, Spain', '8CGRC8C5+VP', 3.0, 1)]\""
      ]
     },
     "execution_count": 2,
     "metadata": {},
     "output_type": "execute_result"
    }
   ],
   "source": [
    "db = SQLDatabase.from_uri(\"sqlite:////Users/main/Desktop/database/llm.db\")\n",
    "print(db.dialect)\n",
    "print(db.get_usable_table_names())\n",
    "db.run(\"SELECT * FROM restaurants LIMIT 10;\")"
   ]
  },
  {
   "cell_type": "code",
   "execution_count": 3,
   "metadata": {},
   "outputs": [
    {
     "ename": "ValidationError",
     "evalue": "1 validation error for QuerySQLDataBaseTool\ndb\n  instance of SQLDatabase expected (type=type_error.arbitrary_type; expected_arbitrary_type=SQLDatabase)",
     "output_type": "error",
     "traceback": [
      "\u001b[0;31m---------------------------------------------------------------------------\u001b[0m",
      "\u001b[0;31mValidationError\u001b[0m                           Traceback (most recent call last)",
      "Cell \u001b[0;32mIn[3], line 3\u001b[0m\n\u001b[1;32m      1\u001b[0m \u001b[38;5;28;01mfrom\u001b[39;00m \u001b[38;5;21;01mlangchain_community\u001b[39;00m\u001b[38;5;21;01m.\u001b[39;00m\u001b[38;5;21;01mtools\u001b[39;00m\u001b[38;5;21;01m.\u001b[39;00m\u001b[38;5;21;01msql_database\u001b[39;00m\u001b[38;5;21;01m.\u001b[39;00m\u001b[38;5;21;01mtool\u001b[39;00m \u001b[38;5;28;01mimport\u001b[39;00m QuerySQLDataBaseTool\n\u001b[0;32m----> 3\u001b[0m execute_query \u001b[38;5;241m=\u001b[39m \u001b[43mQuerySQLDataBaseTool\u001b[49m\u001b[43m(\u001b[49m\u001b[43mdb\u001b[49m\u001b[38;5;241;43m=\u001b[39;49m\u001b[38;5;124;43m\"\u001b[39;49m\u001b[38;5;124;43msqlite:////Users/main/Desktop/database/llm.db\u001b[39;49m\u001b[38;5;124;43m\"\u001b[39;49m\u001b[43m)\u001b[49m\n\u001b[1;32m      4\u001b[0m write_query \u001b[38;5;241m=\u001b[39m create_sql_query_chain(llm, db)\n\u001b[1;32m      5\u001b[0m chain \u001b[38;5;241m=\u001b[39m write_query \u001b[38;5;241m|\u001b[39m execute_query\n",
      "File \u001b[0;32m~/Desktop/LLM_Langchain/LLM/lib/python3.11/site-packages/langchain_core/tools/base.py:346\u001b[0m, in \u001b[0;36mBaseTool.__init__\u001b[0;34m(self, **kwargs)\u001b[0m\n\u001b[1;32m    341\u001b[0m     \u001b[38;5;28;01mif\u001b[39;00m \u001b[38;5;129;01mnot\u001b[39;00m is_basemodel_subclass(kwargs[\u001b[38;5;124m\"\u001b[39m\u001b[38;5;124margs_schema\u001b[39m\u001b[38;5;124m\"\u001b[39m]):\n\u001b[1;32m    342\u001b[0m         \u001b[38;5;28;01mraise\u001b[39;00m \u001b[38;5;167;01mTypeError\u001b[39;00m(\n\u001b[1;32m    343\u001b[0m             \u001b[38;5;124mf\u001b[39m\u001b[38;5;124m\"\u001b[39m\u001b[38;5;124margs_schema must be a subclass of pydantic BaseModel. \u001b[39m\u001b[38;5;124m\"\u001b[39m\n\u001b[1;32m    344\u001b[0m             \u001b[38;5;124mf\u001b[39m\u001b[38;5;124m\"\u001b[39m\u001b[38;5;124mGot: \u001b[39m\u001b[38;5;132;01m{\u001b[39;00mkwargs[\u001b[38;5;124m'\u001b[39m\u001b[38;5;124margs_schema\u001b[39m\u001b[38;5;124m'\u001b[39m]\u001b[38;5;132;01m}\u001b[39;00m\u001b[38;5;124m.\u001b[39m\u001b[38;5;124m\"\u001b[39m\n\u001b[1;32m    345\u001b[0m         )\n\u001b[0;32m--> 346\u001b[0m \u001b[38;5;28;43msuper\u001b[39;49m\u001b[43m(\u001b[49m\u001b[43m)\u001b[49m\u001b[38;5;241;43m.\u001b[39;49m\u001b[38;5;21;43m__init__\u001b[39;49m\u001b[43m(\u001b[49m\u001b[38;5;241;43m*\u001b[39;49m\u001b[38;5;241;43m*\u001b[39;49m\u001b[43mkwargs\u001b[49m\u001b[43m)\u001b[49m\n",
      "File \u001b[0;32m~/Desktop/LLM_Langchain/LLM/lib/python3.11/site-packages/langchain_core/load/serializable.py:113\u001b[0m, in \u001b[0;36mSerializable.__init__\u001b[0;34m(self, *args, **kwargs)\u001b[0m\n\u001b[1;32m    111\u001b[0m \u001b[38;5;28;01mdef\u001b[39;00m \u001b[38;5;21m__init__\u001b[39m(\u001b[38;5;28mself\u001b[39m, \u001b[38;5;241m*\u001b[39margs: Any, \u001b[38;5;241m*\u001b[39m\u001b[38;5;241m*\u001b[39mkwargs: Any) \u001b[38;5;241m-\u001b[39m\u001b[38;5;241m>\u001b[39m \u001b[38;5;28;01mNone\u001b[39;00m:\n\u001b[1;32m    112\u001b[0m \u001b[38;5;250m    \u001b[39m\u001b[38;5;124;03m\"\"\"\"\"\"\u001b[39;00m\n\u001b[0;32m--> 113\u001b[0m     \u001b[38;5;28;43msuper\u001b[39;49m\u001b[43m(\u001b[49m\u001b[43m)\u001b[49m\u001b[38;5;241;43m.\u001b[39;49m\u001b[38;5;21;43m__init__\u001b[39;49m\u001b[43m(\u001b[49m\u001b[38;5;241;43m*\u001b[39;49m\u001b[43margs\u001b[49m\u001b[43m,\u001b[49m\u001b[43m \u001b[49m\u001b[38;5;241;43m*\u001b[39;49m\u001b[38;5;241;43m*\u001b[39;49m\u001b[43mkwargs\u001b[49m\u001b[43m)\u001b[49m\n",
      "File \u001b[0;32m~/Desktop/LLM_Langchain/LLM/lib/python3.11/site-packages/pydantic/v1/main.py:341\u001b[0m, in \u001b[0;36mBaseModel.__init__\u001b[0;34m(__pydantic_self__, **data)\u001b[0m\n\u001b[1;32m    339\u001b[0m values, fields_set, validation_error \u001b[38;5;241m=\u001b[39m validate_model(__pydantic_self__\u001b[38;5;241m.\u001b[39m\u001b[38;5;18m__class__\u001b[39m, data)\n\u001b[1;32m    340\u001b[0m \u001b[38;5;28;01mif\u001b[39;00m validation_error:\n\u001b[0;32m--> 341\u001b[0m     \u001b[38;5;28;01mraise\u001b[39;00m validation_error\n\u001b[1;32m    342\u001b[0m \u001b[38;5;28;01mtry\u001b[39;00m:\n\u001b[1;32m    343\u001b[0m     object_setattr(__pydantic_self__, \u001b[38;5;124m'\u001b[39m\u001b[38;5;124m__dict__\u001b[39m\u001b[38;5;124m'\u001b[39m, values)\n",
      "\u001b[0;31mValidationError\u001b[0m: 1 validation error for QuerySQLDataBaseTool\ndb\n  instance of SQLDatabase expected (type=type_error.arbitrary_type; expected_arbitrary_type=SQLDatabase)"
     ]
    }
   ],
   "source": [
    "from langchain_community.tools.sql_database.tool import QuerySQLDataBaseTool\n",
    "\n",
    "execute_query = QuerySQLDataBaseTool(db=\"sqlite:////Users/main/Desktop/database/llm.db\")\n",
    "write_query = create_sql_query_chain(llm, db)\n",
    "chain = write_query | execute_query\n",
    "chain.invoke({\"question\": \"how many restaurants are in the restaurants_madrid table? dont use double notation mark in the query for getting total_restaurants, toherwise you will not give me a result\"})"
   ]
  },
  {
   "cell_type": "code",
   "execution_count": 5,
   "metadata": {},
   "outputs": [
    {
     "data": {
      "text/plain": [
       "\"I apologize for the confusion in the previous response. It seems there was an error in executing the SQL query. The correct SQL query to answer your question would be:\\n\\n```sql\\nSELECT COUNT(*) AS restaurant_count FROM restaurants_madrid\\n```\\n\\nHowever, since we don't have the actual result of this query, I cannot provide you with the exact number of restaurants in the restaurants_madrid table. \\n\\nTo properly answer your question, we would need to run this query against the database containing the restaurants_madrid table and retrieve the result. Once we have the result, we could tell you exactly how many restaurants are in the table.\\n\\nIf you have access to the database, you can run this query to get the count of restaurants. If you don't have direct access, you may need to ask someone with database access to run this query for you.\""
      ]
     },
     "execution_count": 5,
     "metadata": {},
     "output_type": "execute_result"
    }
   ],
   "source": [
    "from operator import itemgetter\n",
    "from langchain_core.output_parsers import StrOutputParser\n",
    "from langchain_core.prompts import PromptTemplate\n",
    "from langchain_core.runnables import RunnablePassthrough\n",
    "\n",
    "answer_prompt = PromptTemplate.from_template(\n",
    "    \"\"\"Given the following user question, corresponding SQL query, and SQL result, answer the user question.\n",
    "\n",
    "Question: {question}\n",
    "SQL Query: {query}\n",
    "SQL Result: {result}\n",
    "Answer: \"\"\"\n",
    ")\n",
    "\n",
    "chain = (\n",
    "    RunnablePassthrough.assign(query=write_query).assign(\n",
    "        result=itemgetter(\"query\") | execute_query\n",
    "    )\n",
    "    | answer_prompt\n",
    "    | llm\n",
    "    | StrOutputParser()\n",
    ")\n",
    "\n",
    "chain.invoke({\"question\": \"How many restaurants are in the restaurants_madrid table? if you find a grammar mistake fixed it and return me the result of the query\"})"
   ]
  },
  {
   "cell_type": "code",
   "execution_count": null,
   "metadata": {},
   "outputs": [],
   "source": []
  }
 ],
 "metadata": {
  "kernelspec": {
   "display_name": "LLM",
   "language": "python",
   "name": "python3"
  },
  "language_info": {
   "codemirror_mode": {
    "name": "ipython",
    "version": 3
   },
   "file_extension": ".py",
   "mimetype": "text/x-python",
   "name": "python",
   "nbconvert_exporter": "python",
   "pygments_lexer": "ipython3",
   "version": "3.11.4"
  }
 },
 "nbformat": 4,
 "nbformat_minor": 2
}
